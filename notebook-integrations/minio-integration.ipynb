{
 "cells": [
  {
   "cell_type": "markdown",
   "id": "8ddb6c1f-b241-4b6f-b087-8f1018bee06f",
   "metadata": {},
   "source": [
    "# Check if notebook-minio integration is working"
   ]
  },
  {
   "cell_type": "code",
   "execution_count": 6,
   "id": "5b3f766e-6121-4cb3-b5da-30f714c94885",
   "metadata": {},
   "outputs": [],
   "source": [
    "!pip install awscli -q"
   ]
  },
  {
   "cell_type": "code",
   "execution_count": 8,
   "id": "6d1009a3-662c-4e0e-b2f1-387f6690be47",
   "metadata": {},
   "outputs": [
    {
     "name": "stdout",
     "output_type": "stream",
     "text": [
      "2022-02-23 16:00:14 mlpipeline\n"
     ]
    }
   ],
   "source": [
    "!aws --endpoint-url $MINIO_ENDPOINT_URL s3 ls "
   ]
  },
  {
   "cell_type": "code",
   "execution_count": 10,
   "id": "cc47c8c6-3f72-4665-86a7-00d2fb80624e",
   "metadata": {},
   "outputs": [
    {
     "name": "stdout",
     "output_type": "stream",
     "text": [
      "make_bucket: bpk-nb-minio\n"
     ]
    }
   ],
   "source": [
    "!aws --endpoint-url $MINIO_ENDPOINT_URL s3 mb s3://bpk-nb-minio"
   ]
  },
  {
   "cell_type": "code",
   "execution_count": 11,
   "id": "d55e2c5c-c8ad-45eb-b44d-441bf7188849",
   "metadata": {},
   "outputs": [
    {
     "name": "stdout",
     "output_type": "stream",
     "text": [
      "2022-03-01 10:10:59 bpk-nb-minio\n",
      "2022-02-23 16:00:14 mlpipeline\n"
     ]
    }
   ],
   "source": [
    "!aws --endpoint-url $MINIO_ENDPOINT_URL s3 ls "
   ]
  },
  {
   "cell_type": "code",
   "execution_count": 13,
   "id": "9cf7d958-1f78-44cb-ad17-fc32b1f4e2c4",
   "metadata": {},
   "outputs": [],
   "source": [
    "!aws --endpoint-url $MINIO_ENDPOINT_URL s3 ls s3://bpk-nb-minio/"
   ]
  },
  {
   "cell_type": "code",
   "execution_count": 14,
   "id": "629ec30d-a1d6-4dba-bad3-0cf3ddcc1b63",
   "metadata": {},
   "outputs": [
    {
     "name": "stdout",
     "output_type": "stream",
     "text": [
      "upload: ./sample.txt to s3://bpk-nb-minio/uploaded-sample.txt   \n"
     ]
    }
   ],
   "source": [
    "!aws --endpoint-url $MINIO_ENDPOINT_URL s3 cp sample.txt s3://bpk-nb-minio/uploaded-sample.txt"
   ]
  },
  {
   "cell_type": "code",
   "execution_count": 15,
   "id": "c12067f7-e135-4ab5-bcdf-107a02fee32f",
   "metadata": {},
   "outputs": [
    {
     "name": "stdout",
     "output_type": "stream",
     "text": [
      "2022-03-01 10:11:55         28 uploaded-sample.txt\n"
     ]
    }
   ],
   "source": [
    "!aws --endpoint-url $MINIO_ENDPOINT_URL s3 ls s3://bpk-nb-minio/"
   ]
  },
  {
   "cell_type": "code",
   "execution_count": 16,
   "id": "f8178f99-422c-46e8-ad51-c3ca45b7096c",
   "metadata": {},
   "outputs": [
    {
     "name": "stdout",
     "output_type": "stream",
     "text": [
      "download: s3://bpk-nb-minio/uploaded-sample.txt to ./downloaded-sample.txt\n"
     ]
    }
   ],
   "source": [
    "!aws --endpoint-url $MINIO_ENDPOINT_URL s3 cp s3://bpk-nb-minio/uploaded-sample.txt downloaded-sample.txt"
   ]
  },
  {
   "cell_type": "markdown",
   "id": "581379e9-a1c3-4c26-ba31-d424bc9e2761",
   "metadata": {},
   "source": [
    "Now, go to the MinIO console or use CLI to check if values are in expected MinIO object storage."
   ]
  },
  {
   "cell_type": "code",
   "execution_count": 17,
   "id": "0dcac8cb-5244-4da9-8e86-c4577f0f64c2",
   "metadata": {},
   "outputs": [
    {
     "name": "stdout",
     "output_type": "stream",
     "text": [
      "downloaded-sample.txt  minio-integration.ipynb\tsample.txt\n"
     ]
    }
   ],
   "source": [
    "!ls"
   ]
  },
  {
   "cell_type": "markdown",
   "id": "3c602272-d787-45ef-99fe-3c32e9c2cd3e",
   "metadata": {},
   "source": [
    "# Clean up"
   ]
  },
  {
   "cell_type": "code",
   "execution_count": 20,
   "id": "90647d88-aff3-46e3-8c45-21ad57402e47",
   "metadata": {},
   "outputs": [
    {
     "name": "stdout",
     "output_type": "stream",
     "text": [
      "delete: s3://bpk-nb-minio/uploaded-sample.txt\n"
     ]
    }
   ],
   "source": [
    "!aws --endpoint-url $MINIO_ENDPOINT_URL s3 rm s3://bpk-nb-minio/uploaded-sample.txt"
   ]
  },
  {
   "cell_type": "code",
   "execution_count": 21,
   "id": "738044d5-edfe-4a5a-bffd-88ebd0a3cd5d",
   "metadata": {},
   "outputs": [
    {
     "name": "stdout",
     "output_type": "stream",
     "text": [
      "remove_bucket: bpk-nb-minio\n"
     ]
    }
   ],
   "source": [
    "!aws --endpoint-url $MINIO_ENDPOINT_URL s3 rb s3://bpk-nb-minio"
   ]
  },
  {
   "cell_type": "code",
   "execution_count": 22,
   "id": "1718cd4b-0dec-4ecb-801b-3d4f354526fe",
   "metadata": {},
   "outputs": [
    {
     "name": "stdout",
     "output_type": "stream",
     "text": [
      "rm: cannot remove 'downloaded-sample.txt': No such file or directory\n"
     ]
    }
   ],
   "source": [
    "rm downloaded-sample.txt"
   ]
  },
  {
   "cell_type": "code",
   "execution_count": null,
   "id": "68501f5c-45a9-46ea-bb59-8ca886cb5148",
   "metadata": {},
   "outputs": [],
   "source": []
  }
 ],
 "metadata": {
  "kernelspec": {
   "display_name": "Python 3",
   "language": "python",
   "name": "python3"
  },
  "language_info": {
   "codemirror_mode": {
    "name": "ipython",
    "version": 3
   },
   "file_extension": ".py",
   "mimetype": "text/x-python",
   "name": "python",
   "nbconvert_exporter": "python",
   "pygments_lexer": "ipython3",
   "version": "3.8.10"
  }
 },
 "nbformat": 4,
 "nbformat_minor": 5
}
