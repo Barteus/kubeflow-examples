{
 "cells": [
  {
   "cell_type": "markdown",
   "id": "c6894075-6c1d-462a-a715-51746ef066d6",
   "metadata": {},
   "source": [
    "# Perform an experiment in MLFlow\n",
    "- start experiment \n",
    "- train model\n",
    "- save metrics\n",
    "- save artifact"
   ]
  },
  {
   "cell_type": "code",
   "execution_count": 1,
   "id": "opening-plate",
   "metadata": {
    "tags": []
   },
   "outputs": [],
   "source": [
    "!pip install mlflow==1.13.1 boto3 awscli -q"
   ]
  },
  {
   "cell_type": "code",
   "execution_count": 2,
   "id": "built-jacksonville",
   "metadata": {},
   "outputs": [],
   "source": [
    "import os\n",
    "import warnings\n",
    "import sys\n",
    "\n",
    "import pandas as pd\n",
    "import numpy as np\n",
    "from sklearn.metrics import mean_squared_error, mean_absolute_error, r2_score\n",
    "from sklearn.model_selection import train_test_split\n",
    "from sklearn.linear_model import ElasticNet\n",
    "from urllib.parse import urlparse\n",
    "import mlflow\n",
    "import mlflow.sklearn\n",
    "from mlflow.models.signature import infer_signature\n",
    "\n",
    "import logging\n",
    "\n",
    "logging.basicConfig(level=logging.DEBUG)\n",
    "logger = logging.getLogger(__name__)\n",
    "\n",
    "warnings.filterwarnings(\"ignore\")\n",
    "np.random.seed(40)"
   ]
  },
  {
   "cell_type": "code",
   "execution_count": 3,
   "id": "08f9a28d-5399-438b-98c2-c4665d9d8ea8",
   "metadata": {},
   "outputs": [
    {
     "data": {
      "text/html": [
       "<div>\n",
       "<style scoped>\n",
       "    .dataframe tbody tr th:only-of-type {\n",
       "        vertical-align: middle;\n",
       "    }\n",
       "\n",
       "    .dataframe tbody tr th {\n",
       "        vertical-align: top;\n",
       "    }\n",
       "\n",
       "    .dataframe thead th {\n",
       "        text-align: right;\n",
       "    }\n",
       "</style>\n",
       "<table border=\"1\" class=\"dataframe\">\n",
       "  <thead>\n",
       "    <tr style=\"text-align: right;\">\n",
       "      <th></th>\n",
       "      <th>fixed acidity</th>\n",
       "      <th>volatile acidity</th>\n",
       "      <th>citric acid</th>\n",
       "      <th>residual sugar</th>\n",
       "      <th>chlorides</th>\n",
       "      <th>free sulfur dioxide</th>\n",
       "      <th>total sulfur dioxide</th>\n",
       "      <th>density</th>\n",
       "      <th>pH</th>\n",
       "      <th>sulphates</th>\n",
       "      <th>alcohol</th>\n",
       "      <th>quality</th>\n",
       "    </tr>\n",
       "  </thead>\n",
       "  <tbody>\n",
       "    <tr>\n",
       "      <th>0</th>\n",
       "      <td>7.4</td>\n",
       "      <td>0.70</td>\n",
       "      <td>0.00</td>\n",
       "      <td>1.9</td>\n",
       "      <td>0.076</td>\n",
       "      <td>11.0</td>\n",
       "      <td>34.0</td>\n",
       "      <td>0.9978</td>\n",
       "      <td>3.51</td>\n",
       "      <td>0.56</td>\n",
       "      <td>9.4</td>\n",
       "      <td>5</td>\n",
       "    </tr>\n",
       "    <tr>\n",
       "      <th>1</th>\n",
       "      <td>7.8</td>\n",
       "      <td>0.88</td>\n",
       "      <td>0.00</td>\n",
       "      <td>2.6</td>\n",
       "      <td>0.098</td>\n",
       "      <td>25.0</td>\n",
       "      <td>67.0</td>\n",
       "      <td>0.9968</td>\n",
       "      <td>3.20</td>\n",
       "      <td>0.68</td>\n",
       "      <td>9.8</td>\n",
       "      <td>5</td>\n",
       "    </tr>\n",
       "    <tr>\n",
       "      <th>2</th>\n",
       "      <td>7.8</td>\n",
       "      <td>0.76</td>\n",
       "      <td>0.04</td>\n",
       "      <td>2.3</td>\n",
       "      <td>0.092</td>\n",
       "      <td>15.0</td>\n",
       "      <td>54.0</td>\n",
       "      <td>0.9970</td>\n",
       "      <td>3.26</td>\n",
       "      <td>0.65</td>\n",
       "      <td>9.8</td>\n",
       "      <td>5</td>\n",
       "    </tr>\n",
       "    <tr>\n",
       "      <th>3</th>\n",
       "      <td>11.2</td>\n",
       "      <td>0.28</td>\n",
       "      <td>0.56</td>\n",
       "      <td>1.9</td>\n",
       "      <td>0.075</td>\n",
       "      <td>17.0</td>\n",
       "      <td>60.0</td>\n",
       "      <td>0.9980</td>\n",
       "      <td>3.16</td>\n",
       "      <td>0.58</td>\n",
       "      <td>9.8</td>\n",
       "      <td>6</td>\n",
       "    </tr>\n",
       "    <tr>\n",
       "      <th>4</th>\n",
       "      <td>7.4</td>\n",
       "      <td>0.70</td>\n",
       "      <td>0.00</td>\n",
       "      <td>1.9</td>\n",
       "      <td>0.076</td>\n",
       "      <td>11.0</td>\n",
       "      <td>34.0</td>\n",
       "      <td>0.9978</td>\n",
       "      <td>3.51</td>\n",
       "      <td>0.56</td>\n",
       "      <td>9.4</td>\n",
       "      <td>5</td>\n",
       "    </tr>\n",
       "  </tbody>\n",
       "</table>\n",
       "</div>"
      ],
      "text/plain": [
       "   fixed acidity  volatile acidity  citric acid  residual sugar  chlorides  \\\n",
       "0            7.4              0.70         0.00             1.9      0.076   \n",
       "1            7.8              0.88         0.00             2.6      0.098   \n",
       "2            7.8              0.76         0.04             2.3      0.092   \n",
       "3           11.2              0.28         0.56             1.9      0.075   \n",
       "4            7.4              0.70         0.00             1.9      0.076   \n",
       "\n",
       "   free sulfur dioxide  total sulfur dioxide  density    pH  sulphates  \\\n",
       "0                 11.0                  34.0   0.9978  3.51       0.56   \n",
       "1                 25.0                  67.0   0.9968  3.20       0.68   \n",
       "2                 15.0                  54.0   0.9970  3.26       0.65   \n",
       "3                 17.0                  60.0   0.9980  3.16       0.58   \n",
       "4                 11.0                  34.0   0.9978  3.51       0.56   \n",
       "\n",
       "   alcohol  quality  \n",
       "0      9.4        5  \n",
       "1      9.8        5  \n",
       "2      9.8        5  \n",
       "3      9.8        6  \n",
       "4      9.4        5  "
      ]
     },
     "execution_count": 3,
     "metadata": {},
     "output_type": "execute_result"
    }
   ],
   "source": [
    "data = pd.read_csv(\"http://archive.ics.uci.edu/ml/machine-learning-databases/wine-quality/winequality-red.csv\", sep=\";\")\n",
    "data.head()"
   ]
  },
  {
   "cell_type": "code",
   "execution_count": 4,
   "id": "3a2511a7-1f49-4e6d-ad5f-aaf94f2ec23d",
   "metadata": {},
   "outputs": [
    {
     "data": {
      "text/plain": [
       "(1599, 12)"
      ]
     },
     "execution_count": 4,
     "metadata": {},
     "output_type": "execute_result"
    }
   ],
   "source": [
    "data.shape"
   ]
  },
  {
   "cell_type": "code",
   "execution_count": 5,
   "id": "thick-begin",
   "metadata": {},
   "outputs": [],
   "source": [
    "TARGET_COLUMN = \"quality\"\n",
    "train, test = train_test_split(data)\n",
    "\n",
    "train_x = train.drop([TARGET_COLUMN], axis=1)\n",
    "test_x = test.drop([TARGET_COLUMN], axis=1)\n",
    "train_y = train[[TARGET_COLUMN]]\n",
    "test_y = test[[TARGET_COLUMN]]"
   ]
  },
  {
   "cell_type": "code",
   "execution_count": 6,
   "id": "cfa5af5f-f2fe-4b21-839d-384073a8aefe",
   "metadata": {},
   "outputs": [
    {
     "name": "stdout",
     "output_type": "stream",
     "text": [
      "make_bucket failed: s3://mlflow An error occurred (503) when calling the CreateBucket operation (reached max retries: 4): Service Unavailable\n"
     ]
    }
   ],
   "source": [
    "!aws --endpoint-url $MLFLOW_S3_ENDPOINT_URL s3 mb s3://mlflow"
   ]
  },
  {
   "cell_type": "code",
   "execution_count": 7,
   "id": "962afab0-372e-4dde-b2a2-7f85262327f1",
   "metadata": {
    "tags": []
   },
   "outputs": [
    {
     "name": "stderr",
     "output_type": "stream",
     "text": [
      "DEBUG:urllib3.connectionpool:Starting new HTTP connection (1): mlflow-server.kubeflow.svc.cluster.local:5000\n",
      "DEBUG:urllib3.connectionpool:http://mlflow-server.kubeflow.svc.cluster.local:5000 \"POST /api/2.0/mlflow/experiments/create HTTP/1.1\" 200 26\n"
     ]
    }
   ],
   "source": [
    "experiment_id = mlflow.create_experiment(name=\"My Wine Experiments\")"
   ]
  },
  {
   "cell_type": "code",
   "execution_count": 8,
   "id": "c3d74d1e-5f79-4cd0-8b8d-6b8afa0d8e97",
   "metadata": {},
   "outputs": [
    {
     "name": "stderr",
     "output_type": "stream",
     "text": [
      "2023/04/05 08:25:31 INFO mlflow.utils.autologging_utils: sklearn autologging will track hyperparameters, performance metrics, model artifacts, and lineage information for the current sklearn workflow to the MLflow run with ID 'f55ee609323d4b108279504850b42b25'\n",
      "Successfully registered model 'wine-elasticnet'.\n",
      "2023/04/05 08:25:32 INFO mlflow.tracking._model_registry.client: Waiting up to 300 seconds for model version to finish creation.                     Model name: wine-elasticnet, version 1\n",
      "Created version '1' of model 'wine-elasticnet'.\n",
      "2023/04/05 08:25:32 INFO mlflow.utils.autologging_utils: sklearn autologging will track hyperparameters, performance metrics, model artifacts, and lineage information for the current sklearn workflow to the MLflow run with ID '247fb78a00334755b12a02d4a572370a'\n",
      "Registered model 'wine-elasticnet' already exists. Creating a new version of this model...\n",
      "2023/04/05 08:25:33 INFO mlflow.tracking._model_registry.client: Waiting up to 300 seconds for model version to finish creation.                     Model name: wine-elasticnet, version 2\n",
      "Created version '2' of model 'wine-elasticnet'.\n",
      "2023/04/05 08:25:33 INFO mlflow.utils.autologging_utils: sklearn autologging will track hyperparameters, performance metrics, model artifacts, and lineage information for the current sklearn workflow to the MLflow run with ID '13a2c4b036d14b4e8c90691077dbfc15'\n",
      "Registered model 'wine-elasticnet' already exists. Creating a new version of this model...\n",
      "2023/04/05 08:25:34 INFO mlflow.tracking._model_registry.client: Waiting up to 300 seconds for model version to finish creation.                     Model name: wine-elasticnet, version 3\n",
      "Created version '3' of model 'wine-elasticnet'.\n"
     ]
    }
   ],
   "source": [
    "def experiment(alpha, l1_ratio):\n",
    "    mlflow.sklearn.autolog()\n",
    "    with mlflow.start_run(run_name='wine_models', experiment_id=experiment_id):\n",
    "            mlflow.set_tag(\"author\", \"bpk\")\n",
    "            lr = ElasticNet(alpha=alpha, l1_ratio=l1_ratio, random_state=42)\n",
    "            lr.fit(train_x, train_y)\n",
    "\n",
    "            pred_y = lr.predict(test_x)\n",
    "            mlflow.log_metric(\"rmse\", np.sqrt(mean_squared_error(test_y, pred_y)))\n",
    "            mlflow.log_metric(\"r2\", r2_score(test_y, pred_y))\n",
    "            mlflow.log_metric(\"mae\", mean_absolute_error(test_y, pred_y))\n",
    "\n",
    "            signature = infer_signature(test_x, pred_y)\n",
    "            mlflow.sklearn.log_model(lr, \"model\", registered_model_name=\"wine-elasticnet\", signature=signature)\n",
    "            \n",
    "experiment(0.5, 0.5)\n",
    "experiment(1, 0)\n",
    "experiment(0, 1)"
   ]
  },
  {
   "cell_type": "code",
   "execution_count": null,
   "id": "984c2a5e-f075-4f0f-bda2-9546c1468e30",
   "metadata": {},
   "outputs": [],
   "source": []
  }
 ],
 "metadata": {
  "kernelspec": {
   "display_name": "Python 3 (ipykernel)",
   "language": "python",
   "name": "python3"
  },
  "language_info": {
   "codemirror_mode": {
    "name": "ipython",
    "version": 3
   },
   "file_extension": ".py",
   "mimetype": "text/x-python",
   "name": "python",
   "nbconvert_exporter": "python",
   "pygments_lexer": "ipython3",
   "version": "3.8.10"
  }
 },
 "nbformat": 4,
 "nbformat_minor": 5
}
