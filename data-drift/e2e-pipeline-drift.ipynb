{
 "cells": [
  {
   "cell_type": "markdown",
   "metadata": {
    "pycharm": {
     "name": "#%% md\n"
    }
   },
   "source": [
    "# E2E scenario for Wine dataset as KFP\n",
    "\n",
    "Steps:\n",
    "- download\n",
    "- datadrift inference\n",
    "- clean/preprocess\n",
    "- train/hyperparam tunning with results in mlflow+minio\n",
    "- serving\n",
    "- example inference\n",
    "\n",
    "Artefacts:\n",
    "- raw data, preprocessed\n",
    "- model per experiment\n",
    "- experiment metadata and results"
   ]
  },
  {
   "cell_type": "code",
   "execution_count": 4,
   "metadata": {
    "tags": [],
    "pycharm": {
     "name": "#%%\n"
    }
   },
   "outputs": [
    {
     "name": "stdout",
     "output_type": "stream",
     "text": [
      "\u001B[33mWARNING: You are using pip version 21.3.1; however, version 22.0.4 is available.\r\n",
      "You should consider upgrading via the '/home/barteus/Work/DSV/kubeflow-examples/data-drift/venv/bin/python -m pip install --upgrade pip' command.\u001B[0m\r\n"
     ]
    }
   ],
   "source": [
    "!pip install mlflow boto3 awscli pyarrow sklearn mlflow -q"
   ]
  },
  {
   "cell_type": "code",
   "execution_count": 5,
   "metadata": {
    "pycharm": {
     "name": "#%%\n"
    }
   },
   "outputs": [
    {
     "name": "stdout",
     "output_type": "stream",
     "text": [
      "\u001B[33mWARNING: You are using pip version 21.3.1; however, version 22.0.4 is available.\r\n",
      "You should consider upgrading via the '/home/barteus/Work/DSV/kubeflow-examples/data-drift/venv/bin/python -m pip install --upgrade pip' command.\u001B[0m\r\n"
     ]
    }
   ],
   "source": [
    "!pip install kfp --upgrade -q"
   ]
  },
  {
   "cell_type": "code",
   "execution_count": 6,
   "metadata": {
    "pycharm": {
     "name": "#%%\n"
    }
   },
   "outputs": [],
   "source": [
    "import kfp\n",
    "from kfp import dsl"
   ]
  },
  {
   "cell_type": "markdown",
   "metadata": {
    "pycharm": {
     "name": "#%% md\n"
    }
   },
   "source": [
    "# Local development\n",
    "\n",
    "For most cases not running below lines or changing their values is needed!"
   ]
  },
  {
   "cell_type": "code",
   "execution_count": 7,
   "metadata": {
    "pycharm": {
     "name": "#%%\n"
    }
   },
   "outputs": [],
   "source": [
    "import os\n",
    "\n",
    "os.environ['MLFLOW_TRACKING_URI'] = \"http://10.1.100.19:5000\"\n",
    "os.environ[\"MLFLOW_S3_ENDPOINT_URL\"] = \"http://10.1.100.27:9000\"\n",
    "# os.environ['MLFLOW_TRACKING_URI'] = \"http://mlflow-server.kubeflow.svc.cluster.local:5000\"\n",
    "# os.environ[\"MLFLOW_S3_ENDPOINT_URL\"] = \"http://minio.kubeflow.svc.cluster.local:9000\"\n",
    "os.environ[\"AWS_ACCESS_KEY_ID\"] = \"minio\"\n",
    "os.environ[\"AWS_SECRET_ACCESS_KEY\"] = \"minio123\""
   ]
  },
  {
   "cell_type": "markdown",
   "metadata": {
    "pycharm": {
     "name": "#%% md\n"
    }
   },
   "source": [
    "# Download data"
   ]
  },
  {
   "cell_type": "code",
   "execution_count": 1,
   "metadata": {
    "pycharm": {
     "name": "#%%\n"
    }
   },
   "outputs": [
    {
     "name": "stdout",
     "output_type": "stream",
     "text": [
      "--2022-04-14 07:44:18--  https://raw.githubusercontent.com/Barteus/kubeflow-examples/main/e2e-wine-kfp-mlflow/winequality-red.csv\r\n",
      "Resolving raw.githubusercontent.com (raw.githubusercontent.com)... 185.199.111.133, 185.199.109.133, 185.199.110.133, ...\r\n",
      "Connecting to raw.githubusercontent.com (raw.githubusercontent.com)|185.199.111.133|:443... connected.\r\n",
      "HTTP request sent, awaiting response... 200 OK\r\n",
      "Length: 84199 (82K) [text/plain]\r\n",
      "Saving to: ‘winequality-red.csv.1’\r\n",
      "\r\n",
      "winequality-red.csv 100%[===================>]  82.23K   310KB/s    in 0.3s    \r\n",
      "\r\n",
      "2022-04-14 07:44:19 (310 KB/s) - ‘winequality-red.csv.1’ saved [84199/84199]\r\n",
      "\r\n"
     ]
    }
   ],
   "source": [
    "#In airgapped environment upload data manually\n",
    "!wget \"https://raw.githubusercontent.com/Barteus/kubeflow-examples/main/e2e-wine-kfp-mlflow/winequality-red.csv\""
   ]
  },
  {
   "cell_type": "code",
   "execution_count": 27,
   "metadata": {
    "pycharm": {
     "name": "#%%\n"
    }
   },
   "outputs": [],
   "source": [
    "web_downloader_op = kfp.components.load_component_from_url(\n",
    "    'https://raw.githubusercontent.com/kubeflow/pipelines/master/components/contrib/web/Download/component.yaml')"
   ]
  },
  {
   "cell_type": "markdown",
   "source": [
    "# Data drift detection"
   ],
   "metadata": {
    "collapsed": false,
    "pycharm": {
     "name": "#%% md\n"
    }
   }
  },
  {
   "cell_type": "code",
   "execution_count": 28,
   "outputs": [],
   "source": [
    "def datadrift(file_path: kfp.components.InputPath('CSV')):\n",
    "    import mlflow\n",
    "    import pandas as pd\n",
    "    import numpy as np\n",
    "\n",
    "    df = pd.read_csv(file_path, header=0, sep=\";\")\n",
    "    data_drift_input = np.asarray(df.drop(columns=['quality']), np.float32)\n",
    "    loaded_model = mlflow.pyfunc.load_model('s3://mlflow/0/f8ef7180c6f64ff7b7cbae0f2497d27d/artifacts/datadrift')\n",
    "    drift_result = loaded_model.predict(data_drift_input)\n",
    "    print(drift_result)\n",
    "    return drift_result['data']['is_drift']"
   ],
   "metadata": {
    "collapsed": false,
    "pycharm": {
     "name": "#%%\n"
    }
   }
  },
  {
   "cell_type": "code",
   "execution_count": 29,
   "outputs": [
    {
     "name": "stdout",
     "output_type": "stream",
     "text": [
      "{'data': {'is_drift': 0, 'distance': array([0., 0., 0., 0., 0., 0., 0., 0., 0., 0., 0.], dtype=float32), 'p_val': array([1., 1., 1., 1., 1., 1., 1., 1., 1., 1., 1.], dtype=float32), 'threshold': 0.004545454545454546}, 'meta': {'name': 'KSDrift', 'detector_type': 'offline', 'data_type': None, 'version': '0.9.1'}}\n"
     ]
    },
    {
     "data": {
      "text/plain": "0"
     },
     "execution_count": 29,
     "metadata": {},
     "output_type": "execute_result"
    }
   ],
   "source": [
    "datadrift('winequality-red.csv')"
   ],
   "metadata": {
    "collapsed": false,
    "pycharm": {
     "name": "#%%\n"
    }
   }
  },
  {
   "cell_type": "code",
   "execution_count": 30,
   "outputs": [],
   "source": [
    "datadrift_op = kfp.components.create_component_from_func(\n",
    "    func=datadrift,\n",
    "    # output_component_file='datadrift-component.yaml',  # This is optional. It saves the component spec for future use.\n",
    "    base_image='python:3.9',\n",
    "    packages_to_install=['pandas', 'numpy', 'mlflow', 'boto3'])"
   ],
   "metadata": {
    "collapsed": false,
    "pycharm": {
     "name": "#%%\n"
    }
   }
  },
  {
   "cell_type": "markdown",
   "metadata": {
    "pycharm": {
     "name": "#%% md\n"
    }
   },
   "source": [
    "# Preprocess data"
   ]
  },
  {
   "cell_type": "code",
   "execution_count": 31,
   "metadata": {
    "pycharm": {
     "name": "#%%\n"
    }
   },
   "outputs": [],
   "source": [
    "def preprocess(file_path: kfp.components.InputPath('CSV'),\n",
    "               output_file: kfp.components.OutputPath('parquet')):\n",
    "    import pandas as pd\n",
    "    df = pd.read_csv(file_path, header=0, sep=\";\")\n",
    "    df.columns = [c.lower().replace(' ', '_') for c in df.columns]\n",
    "    df.to_parquet(output_file)"
   ]
  },
  {
   "cell_type": "code",
   "execution_count": 32,
   "metadata": {
    "pycharm": {
     "name": "#%%\n"
    }
   },
   "outputs": [],
   "source": [
    "#local development\n",
    "preprocess('winequality-red.csv', 'preprocessed.parquet')"
   ]
  },
  {
   "cell_type": "code",
   "execution_count": 33,
   "metadata": {
    "pycharm": {
     "name": "#%%\n"
    }
   },
   "outputs": [],
   "source": [
    "#workflow component\n",
    "preprocess_op = kfp.components.create_component_from_func(\n",
    "    func=preprocess,\n",
    "    # output_component_file='preprocess-component.yaml',  # This is optional. It saves the component spec for future use.\n",
    "    base_image='python:3.9',\n",
    "    packages_to_install=['pandas', 'pyarrow'])"
   ]
  },
  {
   "cell_type": "markdown",
   "metadata": {
    "pycharm": {
     "name": "#%% md\n"
    }
   },
   "source": [
    "# Train model"
   ]
  },
  {
   "cell_type": "code",
   "execution_count": 34,
   "metadata": {
    "pycharm": {
     "name": "#%%\n"
    }
   },
   "outputs": [],
   "source": [
    "def trainning(file_path: kfp.components.InputPath('parquet')) -> str:\n",
    "    import pandas as pd\n",
    "    from sklearn.model_selection import train_test_split\n",
    "    from sklearn.metrics import classification_report\n",
    "    import mlflow\n",
    "    from sklearn.linear_model import ElasticNet\n",
    "\n",
    "    df = pd.read_parquet(file_path)\n",
    "\n",
    "    target_column = 'quality'\n",
    "    train_x, test_x, train_y, test_y = train_test_split(df.drop(columns=[target_column]),\n",
    "                                                        df[target_column], test_size=.25,\n",
    "                                                        random_state=1337, stratify=df[target_column])\n",
    "\n",
    "    with mlflow.start_run(run_name='elastic_net_models'):\n",
    "        alpha = 0.5\n",
    "        l1_ratio = 0.5\n",
    "        lr = ElasticNet(alpha=alpha, l1_ratio=l1_ratio, random_state=42)\n",
    "        lr.fit(train_x, train_y)\n",
    "        result = mlflow.sklearn.log_model(lr, \"model\", registered_model_name=\"wine-elasticnet\")\n",
    "        return f\"{mlflow.get_artifact_uri()}/{result.artifact_path}\""
   ]
  },
  {
   "cell_type": "code",
   "execution_count": 35,
   "metadata": {
    "pycharm": {
     "name": "#%%\n"
    }
   },
   "outputs": [
    {
     "name": "stderr",
     "output_type": "stream",
     "text": [
      "2022/04/13 14:57:41 WARNING mlflow.utils.environment: Encountered an unexpected error while inferring pip requirements (model URI: /tmp/tmpcuio3saz/model/model.pkl, flavor: sklearn), fall back to return ['scikit-learn==1.0.2', 'cloudpickle==2.0.0']. Set logging level to DEBUG to see the full traceback.\n",
      "Successfully registered model 'wine-elasticnet'.\n",
      "2022/04/13 14:57:42 INFO mlflow.tracking._model_registry.client: Waiting up to 300 seconds for model version to finish creation.                     Model name: wine-elasticnet, version 1\n",
      "Created version '1' of model 'wine-elasticnet'.\n"
     ]
    },
    {
     "data": {
      "text/plain": "'s3://mlflow/0/458f69b027ff44c7979ed7dc31e54963/artifacts/model'"
     },
     "execution_count": 35,
     "metadata": {},
     "output_type": "execute_result"
    }
   ],
   "source": [
    "trainning('preprocessed.parquet')"
   ]
  },
  {
   "cell_type": "code",
   "execution_count": 36,
   "metadata": {
    "pycharm": {
     "name": "#%%\n"
    }
   },
   "outputs": [],
   "source": [
    "#workflow component\n",
    "training_op = kfp.components.create_component_from_func(\n",
    "    func=trainning,\n",
    "    # output_component_file='train-component.yaml',  # This is optional. It saves the component spec for future use.\n",
    "    base_image='python:3.9',\n",
    "    packages_to_install=['pandas', 'pyarrow', 'sklearn', 'mlflow', 'boto3'])"
   ]
  },
  {
   "cell_type": "markdown",
   "metadata": {
    "tags": [],
    "pycharm": {
     "name": "#%% md\n"
    }
   },
   "source": [
    "# Deploy model\n",
    "\n",
    "Known issues:\n",
    "- https://githubhot.com/repo/SeldonIO/seldon-core/issues/4017 "
   ]
  },
  {
   "cell_type": "code",
   "execution_count": null,
   "metadata": {
    "pycharm": {
     "name": "#%%\n"
    }
   },
   "outputs": [],
   "source": [
    "def deploy(model_uri: str = \"default_model_uri\"):\n",
    "    import subprocess\n",
    "\n",
    "    with open(\"/tmp/manifest.yaml\", \"w\") as f:\n",
    "        manifest = \"\"\"\n",
    "apiVersion: machinelearning.seldon.io/v1alpha2\n",
    "kind: SeldonDeployment\n",
    "metadata:\n",
    "  name: mlflow\n",
    "spec:\n",
    "  name: wines\n",
    "  predictors:\n",
    "  - componentSpecs:\n",
    "    - spec:\n",
    "        containers:\n",
    "        - name: classifier\n",
    "          image: seldonio/mlflowserver:1.14.0-dev\n",
    "          imagePullPolicy: Always\n",
    "          livenessProbe:\n",
    "            initialDelaySeconds: 80\n",
    "            failureThreshold: 200\n",
    "            periodSeconds: 5\n",
    "            successThreshold: 1\n",
    "            httpGet:\n",
    "              path: /health/ping\n",
    "              port: http\n",
    "              scheme: HTTP\n",
    "          readinessProbe:\n",
    "            initialDelaySeconds: 80\n",
    "            failureThreshold: 200\n",
    "            periodSeconds: 5\n",
    "            successThreshold: 1\n",
    "            httpGet:\n",
    "              path: /health/ping\n",
    "              port: http\n",
    "              scheme: HTTP\n",
    "    graph:\n",
    "      children: []\n",
    "      implementation: MLFLOW_SERVER\n",
    "      modelUri: \"\"\" + model_uri + \"\"\"\n",
    "      envSecretRefName: seldon-init-container-secret\n",
    "      logger:\n",
    "          url: http://broker-ingress.knative-eventing.svc.cluster.local/default/wine-inference-requests\n",
    "          mode: request\n",
    "      name: classifier\n",
    "    name: wine-super-model\n",
    "    replicas: 1\n",
    "        \"\"\"\n",
    "        f.write(manifest)\n",
    "\n",
    "    result = subprocess.call(['kubectl', 'apply', '-f', '/tmp/manifest.yaml', '-n', 'admin'])\n",
    "    assert result == 0\n"
   ]
  },
  {
   "cell_type": "code",
   "execution_count": null,
   "metadata": {
    "pycharm": {
     "name": "#%%\n"
    }
   },
   "outputs": [],
   "source": [
    "deploy_op = kfp.components.create_component_from_func(\n",
    "    func=deploy,\n",
    "    output_component_file='deploy-component.yaml',  # This is optional. It saves the component spec for future use.\n",
    "    base_image='bponieckiklotz/seldon-deploy:0.1')"
   ]
  },
  {
   "cell_type": "markdown",
   "metadata": {
    "tags": [],
    "pycharm": {
     "name": "#%% md\n"
    }
   },
   "source": [
    "# Create pipeline"
   ]
  },
  {
   "cell_type": "code",
   "execution_count": null,
   "metadata": {
    "pycharm": {
     "name": "#%%\n"
    }
   },
   "outputs": [],
   "source": [
    "from kubernetes.client.models import V1EnvVar\n",
    "from kfp.onprem import use_k8s_secret\n",
    "\n",
    "\n",
    "@dsl.pipeline(\n",
    "    name=\"e2e_wine_pipeline\",\n",
    "    description=\"WINE pipeline\",\n",
    ")\n",
    "def wine_pipeline(url):\n",
    "    env_mlflow_tracking_uri = V1EnvVar(name='MLFLOW_TRACKING_URI',\n",
    "                                       value='http://mlflow-server.kubeflow.svc.cluster.local:5000')\n",
    "    env_mlflow_s3_endpoint_url = V1EnvVar(name='MLFLOW_S3_ENDPOINT_URL',\n",
    "                                          value='http://minio.kubeflow.svc.cluster.local:9000')\n",
    "    use_k8s_secret_minio = use_k8s_secret(secret_name='mlpipeline-minio-artifact',\n",
    "                                          k8s_secret_key_to_env={'accesskey': 'AWS_ACCESS_KEY_ID',\n",
    "                                                                 'secretkey': 'AWS_SECRET_ACCESS_KEY', })\n",
    "\n",
    "    web_downloader_task = web_downloader_op(url=url)\n",
    "    datadrift_task = (datadrift_op(file=web_downloader_task.outputs['data'])\n",
    "                      .add_env_variable(env_mlflow_tracking_uri)\n",
    "                      .add_env_variable(env_mlflow_s3_endpoint_url)\n",
    "                      .apply(use_k8s_secret_minio))\n",
    "\n",
    "    preprocess_task = preprocess_op(file=web_downloader_task.outputs['data'])\n",
    "\n",
    "    train_task = (training_op(file=preprocess_task.outputs['output'])\n",
    "                  .add_env_variable(env_mlflow_tracking_uri)\n",
    "                  .add_env_variable(env_mlflow_s3_endpoint_url)\n",
    "                  .apply(use_k8s_secret_minio))\n",
    "    deploy_task = deploy_op(model_uri=train_task.output)\n"
   ]
  },
  {
   "cell_type": "code",
   "execution_count": null,
   "metadata": {
    "pycharm": {
     "name": "#%%\n"
    }
   },
   "outputs": [],
   "source": [
    "client = kfp.Client()"
   ]
  },
  {
   "cell_type": "code",
   "execution_count": null,
   "metadata": {
    "pycharm": {
     "name": "#%%\n"
    }
   },
   "outputs": [],
   "source": [
    "client.create_run_from_pipeline_func(\n",
    "    wine_pipeline,\n",
    "    arguments={\n",
    "        \"url\": \"https://raw.githubusercontent.com/Barteus/kubeflow-examples/main/e2e-wine-kfp-mlflow/winequality-red.csv\",\n",
    "    })"
   ]
  },
  {
   "cell_type": "code",
   "execution_count": null,
   "metadata": {
    "pycharm": {
     "name": "#%%\n"
    }
   },
   "outputs": [],
   "source": [
    "kfp.compiler.Compiler().compile(wine_pipeline, 'wine-pipeline.yaml')"
   ]
  }
 ],
 "metadata": {
  "kernelspec": {
   "display_name": "Python 3",
   "language": "python",
   "name": "python3"
  },
  "kubeflow_notebook": {
   "autosnapshot": false,
   "docker_image": "afrikha/uat2:latest",
   "experiment": {
    "id": "",
    "name": ""
   },
   "experiment_name": "",
   "katib_metadata": {
    "algorithm": {
     "algorithmName": "grid"
    },
    "maxFailedTrialCount": 3,
    "maxTrialCount": 12,
    "objective": {
     "objectiveMetricName": "",
     "type": "minimize"
    },
    "parallelTrialCount": 3,
    "parameters": []
   },
   "katib_run": false,
   "pipeline_description": "",
   "pipeline_name": "",
   "snapshot_volumes": false,
   "steps_defaults": [
    "label:access-minio:true",
    "label:access-ml-pipeline:true",
    "label:access-mlflow:true"
   ],
   "volume_access_mode": "rwm",
   "volumes": []
  },
  "language_info": {
   "codemirror_mode": {
    "name": "ipython",
    "version": 3
   },
   "file_extension": ".py",
   "mimetype": "text/x-python",
   "name": "python",
   "nbconvert_exporter": "python",
   "pygments_lexer": "ipython3",
   "version": "3.6.8"
  }
 },
 "nbformat": 4,
 "nbformat_minor": 5
}